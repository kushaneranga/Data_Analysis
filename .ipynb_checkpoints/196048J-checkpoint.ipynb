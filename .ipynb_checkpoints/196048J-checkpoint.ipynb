{
 "cells": [
  {
   "cell_type": "code",
   "execution_count": 2,
   "id": "canadian-diana",
   "metadata": {},
   "outputs": [],
   "source": [
    "import pandas as pd\n",
    "import numpy as np\n",
    "from matplotlib.pyplot import pie, axis, show\n",
    "%matplotlib inline"
   ]
  },
  {
   "cell_type": "code",
   "execution_count": 3,
   "id": "commercial-nevada",
   "metadata": {},
   "outputs": [],
   "source": [
    "data=pd.read_csv('supermarket_sales BPM.csv')"
   ]
  },
  {
   "cell_type": "code",
   "execution_count": 4,
   "id": "august-colors",
   "metadata": {},
   "outputs": [
    {
     "data": {
      "text/html": [
       "<div>\n",
       "<style scoped>\n",
       "    .dataframe tbody tr th:only-of-type {\n",
       "        vertical-align: middle;\n",
       "    }\n",
       "\n",
       "    .dataframe tbody tr th {\n",
       "        vertical-align: top;\n",
       "    }\n",
       "\n",
       "    .dataframe thead th {\n",
       "        text-align: right;\n",
       "    }\n",
       "</style>\n",
       "<table border=\"1\" class=\"dataframe\">\n",
       "  <thead>\n",
       "    <tr style=\"text-align: right;\">\n",
       "      <th></th>\n",
       "      <th>index</th>\n",
       "      <th>Invoice ID</th>\n",
       "      <th>Branch</th>\n",
       "      <th>Customer type</th>\n",
       "      <th>Gender</th>\n",
       "      <th>Product line</th>\n",
       "      <th>Unit price</th>\n",
       "      <th>Quantity</th>\n",
       "      <th>Tax 5%</th>\n",
       "      <th>Total</th>\n",
       "      <th>Payment_Method</th>\n",
       "    </tr>\n",
       "  </thead>\n",
       "  <tbody>\n",
       "    <tr>\n",
       "      <th>0</th>\n",
       "      <td>1</td>\n",
       "      <td>750-67-8428</td>\n",
       "      <td>A</td>\n",
       "      <td>Member</td>\n",
       "      <td>Female</td>\n",
       "      <td>Health and beauty</td>\n",
       "      <td>74.69</td>\n",
       "      <td>7</td>\n",
       "      <td>26.1415</td>\n",
       "      <td>548.9715</td>\n",
       "      <td>Ewallet</td>\n",
       "    </tr>\n",
       "    <tr>\n",
       "      <th>1</th>\n",
       "      <td>2</td>\n",
       "      <td>226-31-3081</td>\n",
       "      <td>C</td>\n",
       "      <td>Normal</td>\n",
       "      <td>Female</td>\n",
       "      <td>Electronic accessories</td>\n",
       "      <td>15.28</td>\n",
       "      <td>5</td>\n",
       "      <td>3.8200</td>\n",
       "      <td>80.2200</td>\n",
       "      <td>Cash</td>\n",
       "    </tr>\n",
       "    <tr>\n",
       "      <th>2</th>\n",
       "      <td>3</td>\n",
       "      <td>631-41-3108</td>\n",
       "      <td>A</td>\n",
       "      <td>Normal</td>\n",
       "      <td>Male</td>\n",
       "      <td>Home and lifestyle</td>\n",
       "      <td>46.33</td>\n",
       "      <td>7</td>\n",
       "      <td>16.2155</td>\n",
       "      <td>340.5255</td>\n",
       "      <td>Credit card</td>\n",
       "    </tr>\n",
       "    <tr>\n",
       "      <th>3</th>\n",
       "      <td>4</td>\n",
       "      <td>123-19-1176</td>\n",
       "      <td>A</td>\n",
       "      <td>Member</td>\n",
       "      <td>Male</td>\n",
       "      <td>Health and beauty</td>\n",
       "      <td>58.22</td>\n",
       "      <td>8</td>\n",
       "      <td>23.2880</td>\n",
       "      <td>489.0480</td>\n",
       "      <td>Ewallet</td>\n",
       "    </tr>\n",
       "    <tr>\n",
       "      <th>4</th>\n",
       "      <td>5</td>\n",
       "      <td>373-73-7910</td>\n",
       "      <td>A</td>\n",
       "      <td>Normal</td>\n",
       "      <td>Male</td>\n",
       "      <td>Sports and travel</td>\n",
       "      <td>86.31</td>\n",
       "      <td>7</td>\n",
       "      <td>30.2085</td>\n",
       "      <td>634.3785</td>\n",
       "      <td>Ewallet</td>\n",
       "    </tr>\n",
       "    <tr>\n",
       "      <th>...</th>\n",
       "      <td>...</td>\n",
       "      <td>...</td>\n",
       "      <td>...</td>\n",
       "      <td>...</td>\n",
       "      <td>...</td>\n",
       "      <td>...</td>\n",
       "      <td>...</td>\n",
       "      <td>...</td>\n",
       "      <td>...</td>\n",
       "      <td>...</td>\n",
       "      <td>...</td>\n",
       "    </tr>\n",
       "    <tr>\n",
       "      <th>495</th>\n",
       "      <td>496</td>\n",
       "      <td>632-32-4574</td>\n",
       "      <td>B</td>\n",
       "      <td>Normal</td>\n",
       "      <td>Male</td>\n",
       "      <td>Sports and travel</td>\n",
       "      <td>75.92</td>\n",
       "      <td>8</td>\n",
       "      <td>30.3680</td>\n",
       "      <td>637.7280</td>\n",
       "      <td>Cash</td>\n",
       "    </tr>\n",
       "    <tr>\n",
       "      <th>496</th>\n",
       "      <td>497</td>\n",
       "      <td>556-97-7101</td>\n",
       "      <td>C</td>\n",
       "      <td>Normal</td>\n",
       "      <td>Female</td>\n",
       "      <td>Electronic accessories</td>\n",
       "      <td>63.22</td>\n",
       "      <td>2</td>\n",
       "      <td>6.3220</td>\n",
       "      <td>132.7620</td>\n",
       "      <td>Cash</td>\n",
       "    </tr>\n",
       "    <tr>\n",
       "      <th>497</th>\n",
       "      <td>498</td>\n",
       "      <td>862-59-8517</td>\n",
       "      <td>C</td>\n",
       "      <td>Normal</td>\n",
       "      <td>Female</td>\n",
       "      <td>Food and beverages</td>\n",
       "      <td>90.24</td>\n",
       "      <td>6</td>\n",
       "      <td>27.0720</td>\n",
       "      <td>568.5120</td>\n",
       "      <td>Cash</td>\n",
       "    </tr>\n",
       "    <tr>\n",
       "      <th>498</th>\n",
       "      <td>499</td>\n",
       "      <td>401-18-8016</td>\n",
       "      <td>B</td>\n",
       "      <td>Member</td>\n",
       "      <td>Female</td>\n",
       "      <td>Sports and travel</td>\n",
       "      <td>98.13</td>\n",
       "      <td>1</td>\n",
       "      <td>4.9065</td>\n",
       "      <td>103.0365</td>\n",
       "      <td>Cash</td>\n",
       "    </tr>\n",
       "    <tr>\n",
       "      <th>499</th>\n",
       "      <td>500</td>\n",
       "      <td>849-09-3807</td>\n",
       "      <td>A</td>\n",
       "      <td>Member</td>\n",
       "      <td>Female</td>\n",
       "      <td>Fashion accessories</td>\n",
       "      <td>88.34</td>\n",
       "      <td>7</td>\n",
       "      <td>30.9190</td>\n",
       "      <td>649.2990</td>\n",
       "      <td>Cash</td>\n",
       "    </tr>\n",
       "  </tbody>\n",
       "</table>\n",
       "<p>500 rows × 11 columns</p>\n",
       "</div>"
      ],
      "text/plain": [
       "     index   Invoice ID Branch Customer type  Gender            Product line  \\\n",
       "0        1  750-67-8428      A        Member  Female       Health and beauty   \n",
       "1        2  226-31-3081      C        Normal  Female  Electronic accessories   \n",
       "2        3  631-41-3108      A        Normal    Male      Home and lifestyle   \n",
       "3        4  123-19-1176      A        Member    Male       Health and beauty   \n",
       "4        5  373-73-7910      A        Normal    Male       Sports and travel   \n",
       "..     ...          ...    ...           ...     ...                     ...   \n",
       "495    496  632-32-4574      B        Normal    Male       Sports and travel   \n",
       "496    497  556-97-7101      C        Normal  Female  Electronic accessories   \n",
       "497    498  862-59-8517      C        Normal  Female      Food and beverages   \n",
       "498    499  401-18-8016      B        Member  Female       Sports and travel   \n",
       "499    500  849-09-3807      A        Member  Female     Fashion accessories   \n",
       "\n",
       "     Unit price  Quantity   Tax 5%     Total Payment_Method  \n",
       "0         74.69         7  26.1415  548.9715        Ewallet  \n",
       "1         15.28         5   3.8200   80.2200           Cash  \n",
       "2         46.33         7  16.2155  340.5255    Credit card  \n",
       "3         58.22         8  23.2880  489.0480        Ewallet  \n",
       "4         86.31         7  30.2085  634.3785        Ewallet  \n",
       "..          ...       ...      ...       ...            ...  \n",
       "495       75.92         8  30.3680  637.7280           Cash  \n",
       "496       63.22         2   6.3220  132.7620           Cash  \n",
       "497       90.24         6  27.0720  568.5120           Cash  \n",
       "498       98.13         1   4.9065  103.0365           Cash  \n",
       "499       88.34         7  30.9190  649.2990           Cash  \n",
       "\n",
       "[500 rows x 11 columns]"
      ]
     },
     "execution_count": 4,
     "metadata": {},
     "output_type": "execute_result"
    }
   ],
   "source": [
    "data"
   ]
  },
  {
   "cell_type": "code",
   "execution_count": 6,
   "id": "increased-contents",
   "metadata": {},
   "outputs": [
    {
     "data": {
      "text/plain": [
       "index               int64\n",
       "Invoice ID         object\n",
       "Branch             object\n",
       "Customer type      object\n",
       "Gender             object\n",
       "Product line       object\n",
       "Unit price        float64\n",
       "Quantity            int64\n",
       "Tax 5%            float64\n",
       "Total             float64\n",
       "Payment_Method     object\n",
       "dtype: object"
      ]
     },
     "execution_count": 6,
     "metadata": {},
     "output_type": "execute_result"
    }
   ],
   "source": [
    "data.dtypes"
   ]
  },
  {
   "cell_type": "code",
   "execution_count": 5,
   "id": "tough-sydney",
   "metadata": {},
   "outputs": [],
   "source": [
    "df = pd.read_csv ('supermarket_sales BPM.csv')"
   ]
  },
  {
   "cell_type": "code",
   "execution_count": 9,
   "id": "numerical-pendant",
   "metadata": {},
   "outputs": [
    {
     "data": {
      "image/png": "[encoded data removed]",
      "text/plain": [
       "<Figure size 432x288 with 1 Axes>"
      ]
     },
     "metadata": {},
     "output_type": "display_data"
    },
    {
     "data": {
      "text/plain": [
       "Gender\n",
       "Female    1447\n",
       "Male      1398\n",
       "Name: Quantity, dtype: int64"
      ]
     },
     "execution_count": 9,
     "metadata": {},
     "output_type": "execute_result"
    }
   ],
   "source": [
    "sums = df.groupby(df[\"Gender\"])[\"Quantity\"].sum()\n",
    "axis('equal');\n",
    "pie(sums, labels=sums.index, autopct='%1.1f%%');\n",
    "show()\n",
    "sums"
   ]
  },
  {
   "cell_type": "code",
   "execution_count": 264,
   "id": "commercial-botswana",
   "metadata": {},
   "outputs": [
    {
     "data": {
      "text/plain": [
       "Counter({'Female': 246, 'Male': 254})"
      ]
     },
     "execution_count": 264,
     "metadata": {},
     "output_type": "execute_result"
    }
   ],
   "source": [
    "from collections import Counter\n",
    "count_gender=Counter(df['Gender'])\n",
    "count_gender"
   ]
  },
  {
   "cell_type": "code",
   "execution_count": 265,
   "id": "collectible-eugene",
   "metadata": {
    "scrolled": true
   },
   "outputs": [
    {
     "data": {
      "text/plain": [
       "Counter({'Ewallet': 160, 'Cash': 187, 'Credit card': 153})"
      ]
     },
     "execution_count": 265,
     "metadata": {},
     "output_type": "execute_result"
    }
   ],
   "source": [
    "count_Payment_Method=Counter(df['Payment_Method'])\n",
    "count_Payment_Method"
   ]
  },
  {
   "cell_type": "code",
   "execution_count": 266,
   "id": "seven-morocco",
   "metadata": {},
   "outputs": [],
   "source": [
    "import matplotlib.ticker as ticker\n",
    "import matplotlib.cm as cm\n",
    "import matplotlib as mpl\n",
    "from matplotlib.gridspec import GridSpec\n",
    "import matplotlib.pyplot as plt"
   ]
  },
  {
   "cell_type": "code",
   "execution_count": 267,
   "id": "convenient-drive",
   "metadata": {},
   "outputs": [],
   "source": [
    "#Payment_Method"
   ]
  },
  {
   "cell_type": "code",
   "execution_count": 268,
   "id": "permanent-military",
   "metadata": {
    "scrolled": false
   },
   "outputs": [
    {
     "name": "stdout",
     "output_type": "stream",
     "text": [
      "                index  Invoice ID  Branch  Customer type  Gender  \\\n",
      "Payment_Method                                                     \n",
      "Cash              187         187     187            187     187   \n",
      "Credit card       153         153     153            153     153   \n",
      "Ewallet           160         160     160            160     160   \n",
      "\n",
      "                Product line  Unit price  Quantity  Tax 5%  Total  \n",
      "Payment_Method                                                     \n",
      "Cash                     187         187       187     187    187  \n",
      "Credit card              153         153       153     153    153  \n",
      "Ewallet                  160         160       160     160    160  \n"
     ]
    }
   ],
   "source": [
    "Payment_group_type = df.groupby('Payment_Method').agg('count')\n",
    "print(Payment_group_type)"
   ]
  },
  {
   "cell_type": "code",
   "execution_count": 269,
   "id": "expanded-scanning",
   "metadata": {},
   "outputs": [
    {
     "data": {
      "text/plain": [
       "Payment_Method\n",
       "Credit card    153\n",
       "Ewallet        160\n",
       "Cash           187\n",
       "Name: Quantity, dtype: int64"
      ]
     },
     "execution_count": 269,
     "metadata": {},
     "output_type": "execute_result"
    }
   ],
   "source": [
    "payment_labels = Payment_group_type.Quantity.sort_values().index \n",
    "payment_type_counts = Payment_group_type.Quantity.sort_values()\n",
    "payment_labels\n",
    "payment_type_counts"
   ]
  },
  {
   "cell_type": "code",
   "execution_count": 270,
   "id": "lesbian-handbook",
   "metadata": {},
   "outputs": [
    {
     "data": {
      "text/plain": [
       "<Figure size 1440x720 with 0 Axes>"
      ]
     },
     "metadata": {},
     "output_type": "display_data"
    }
   ],
   "source": [
    "plt.figure(1, figsize=(20,10)) \n",
    "the_grid = GridSpec(2, 2)"
   ]
  },
  {
   "cell_type": "code",
   "execution_count": 271,
   "id": "assured-newark",
   "metadata": {},
   "outputs": [],
   "source": [
    "cmap = plt.get_cmap('Spectral')\n",
    "colors = [cmap(i) for i in np.linspace(0, 1, 8)]"
   ]
  },
  {
   "cell_type": "code",
   "execution_count": 272,
   "id": "athletic-kansas",
   "metadata": {},
   "outputs": [
    {
     "data": {
      "image/png": "[encoded data removed]",
      "text/plain": [
       "<Figure size 432x288 with 1 Axes>"
      ]
     },
     "metadata": {},
     "output_type": "display_data"
    }
   ],
   "source": [
    "plt.subplot(the_grid[0, 1], aspect=1, title='Payment Method')\n",
    "show_Payment_Method = plt.pie(payment_type_counts, labels=payment_labels, autopct='%1.1f%%', shadow=False, colors=colors)\n",
    "plt.show()"
   ]
  },
  {
   "cell_type": "code",
   "execution_count": 273,
   "id": "distinguished-indie",
   "metadata": {},
   "outputs": [],
   "source": [
    "#Gender"
   ]
  },
  {
   "cell_type": "code",
   "execution_count": 274,
   "id": "decimal-fashion",
   "metadata": {},
   "outputs": [
    {
     "name": "stdout",
     "output_type": "stream",
     "text": [
      "        index  Invoice ID  Branch  Customer type  Product line  Unit price  \\\n",
      "Gender                                                                       \n",
      "Female    246         246     246            246           246         246   \n",
      "Male      254         254     254            254           254         254   \n",
      "\n",
      "        Quantity  Tax 5%  Total  Payment_Method  \n",
      "Gender                                           \n",
      "Female       246     246    246             246  \n",
      "Male         254     254    254             254  \n"
     ]
    }
   ],
   "source": [
    "Gender_group_type = df.groupby('Gender').agg('count')\n",
    "print(Gender_group_type)"
   ]
  },
  {
   "cell_type": "code",
   "execution_count": 275,
   "id": "relative-state",
   "metadata": {
    "scrolled": true
   },
   "outputs": [
    {
     "data": {
      "text/plain": [
       "Gender\n",
       "Female    246\n",
       "Male      254\n",
       "Name: Quantity, dtype: int64"
      ]
     },
     "execution_count": 275,
     "metadata": {},
     "output_type": "execute_result"
    }
   ],
   "source": [
    "Gender_labels = Gender_group_type.Quantity.sort_values().index \n",
    "Gender_type_counts = Gender_group_type.Quantity.sort_values()\n",
    "Gender_labels\n",
    "Gender_type_counts"
   ]
  },
  {
   "cell_type": "code",
   "execution_count": 276,
   "id": "turkish-ceiling",
   "metadata": {},
   "outputs": [
    {
     "data": {
      "text/plain": [
       "<Figure size 1440x720 with 0 Axes>"
      ]
     },
     "metadata": {},
     "output_type": "display_data"
    }
   ],
   "source": [
    "plt.figure(1, figsize=(20,10)) \n",
    "the_grid = GridSpec(2, 2)"
   ]
  },
  {
   "cell_type": "code",
   "execution_count": 277,
   "id": "compatible-chassis",
   "metadata": {},
   "outputs": [],
   "source": [
    "cmap = plt.get_cmap('Spectral')\n",
    "colors = [cmap(i) for i in np.linspace(0, 1, 8)]"
   ]
  },
  {
   "cell_type": "code",
   "execution_count": 278,
   "id": "dedicated-beijing",
   "metadata": {},
   "outputs": [
    {
     "data": {
      "image/png": "[encoded data removed]",
      "text/plain": [
       "<Figure size 432x288 with 1 Axes>"
      ]
     },
     "metadata": {},
     "output_type": "display_data"
    }
   ],
   "source": [
    "plt.subplot(the_grid[0, 1], aspect=1, title='Gender')\n",
    "Show_Gender = plt.pie(Gender_type_counts, labels=Gender_labels, autopct='%1.1f%%', shadow=False, colors=colors)\n",
    "plt.show()"
   ]
  },
  {
   "cell_type": "code",
   "execution_count": 279,
   "id": "lined-version",
   "metadata": {},
   "outputs": [
    {
     "name": "stdout",
     "output_type": "stream",
     "text": [
      "Branch count:\n"
     ]
    },
    {
     "data": {
      "image/png": "[encoded data removed]",
      "text/plain": [
       "<Figure size 432x288 with 1 Axes>"
      ]
     },
     "metadata": {},
     "output_type": "display_data"
    },
    {
     "data": {
      "text/plain": [
       "Branch\n",
       "A    167\n",
       "B    158\n",
       "C    175\n",
       "Name: index, dtype: int64"
      ]
     },
     "execution_count": 279,
     "metadata": {},
     "output_type": "execute_result"
    }
   ],
   "source": [
    "print(\"Branch count:\")\n",
    "Branch_count = df.groupby(df[\"Branch\"])[\"index\"].count()\n",
    "axis('equal');\n",
    "pie(Branch_count, labels=Branch_count.index, autopct='%1.1f%%', colors=colors);\n",
    "show()\n",
    "Branch_count"
   ]
  },
  {
   "cell_type": "code",
   "execution_count": 280,
   "id": "distinct-economy",
   "metadata": {},
   "outputs": [
    {
     "name": "stdout",
     "output_type": "stream",
     "text": [
      "Branch Unit Quantities sums:\n"
     ]
    },
    {
     "data": {
      "image/png": "[encoded data removed]",
      "text/plain": [
       "<Figure size 432x288 with 1 Axes>"
      ]
     },
     "metadata": {},
     "output_type": "display_data"
    },
    {
     "data": {
      "text/plain": [
       "Branch\n",
       "A    971\n",
       "B    898\n",
       "C    976\n",
       "Name: Quantity, dtype: int64"
      ]
     },
     "execution_count": 280,
     "metadata": {},
     "output_type": "execute_result"
    }
   ],
   "source": [
    "print(\"Branch Unit Quantities sums:\")\n",
    "Branch_Quantity_sums = df.groupby(df[\"Branch\"])[\"Quantity\"].sum()\n",
    "axis('equal');\n",
    "pie(Branch_Quantity_sums, labels=Branch_Quantity_sums.index, autopct='%1.1f%%');\n",
    "show()\n",
    "Branch_Quantity_sums"
   ]
  },
  {
   "cell_type": "code",
   "execution_count": 281,
   "id": "still-fossil",
   "metadata": {},
   "outputs": [
    {
     "name": "stdout",
     "output_type": "stream",
     "text": [
      "Product line Quantities sums:\n"
     ]
    },
    {
     "data": {
      "image/png": "[encoded data removed]",
      "text/plain": [
       "<Figure size 432x288 with 1 Axes>"
      ]
     },
     "metadata": {},
     "output_type": "display_data"
    },
    {
     "data": {
      "text/plain": [
       "Product line\n",
       "Electronic accessories    478\n",
       "Fashion accessories       466\n",
       "Food and beverages        490\n",
       "Health and beauty         442\n",
       "Home and lifestyle        478\n",
       "Sports and travel         491\n",
       "Name: Quantity, dtype: int64"
      ]
     },
     "execution_count": 281,
     "metadata": {},
     "output_type": "execute_result"
    }
   ],
   "source": [
    "print(\"Product line Quantities sums:\")\n",
    "Productline_Quantity_sums = df.groupby(df[\"Product line\"])[\"Quantity\"].sum()\n",
    "axis('equal');\n",
    "pie(Productline_Quantity_sums, labels=Productline_Quantity_sums.index, autopct='%1.1f%%');\n",
    "show()\n",
    "Productline_Quantity_sums"
   ]
  },
  {
   "cell_type": "code",
   "execution_count": 283,
   "id": "miniature-camping",
   "metadata": {
    "scrolled": true
   },
   "outputs": [
    {
     "data": {
      "text/plain": [
       "<BarContainer object of 500 artists>"
      ]
     },
     "execution_count": 283,
     "metadata": {},
     "output_type": "execute_result"
    },
    {
     "data": {
      "image/png": "[encoded data removed]",
      "text/plain": [
       "<Figure size 432x288 with 1 Axes>"
      ]
     },
     "metadata": {
      "needs_background": "light"
     },
     "output_type": "display_data"
    }
   ],
   "source": [
    "plt.bar(x=df['Invoice ID'],\n",
    "        height=df['Unit price'])"
   ]
  },
  {
   "cell_type": "code",
   "execution_count": 300,
   "id": "fleet-semester",
   "metadata": {},
   "outputs": [
    {
     "name": "stdout",
     "output_type": "stream",
     "text": [
      "Branch Total sums:\n"
     ]
    },
    {
     "data": {
      "image/png": "[encoded data removed]",
      "text/plain": [
       "<Figure size 432x288 with 1 Axes>"
      ]
     },
     "metadata": {},
     "output_type": "display_data"
    },
    {
     "data": {
      "text/plain": [
       "Branch\n",
       "A    53694.8895\n",
       "B    52709.2020\n",
       "C    58810.2900\n",
       "Name: Total, dtype: float64"
      ]
     },
     "execution_count": 300,
     "metadata": {},
     "output_type": "execute_result"
    }
   ],
   "source": [
    "print(\"Branch Total sums:\")\n",
    "Branch_Total_sums = df.groupby(df[\"Branch\"])[\"Total\"].sum()\n",
    "axis('equal');\n",
    "pie(Branch_Total_sums, labels=Branch_Total_sums.index, autopct='%1.1f%%');\n",
    "show()\n",
    "Branch_Quantity_sums"
   ]
  },
  {
   "cell_type": "code",
   "execution_count": 284,
   "id": "blessed-skill",
   "metadata": {},
   "outputs": [],
   "source": [
    "mean1 = df['Unit price'].mean()\n",
    "sum1 = df['Unit price'].sum()\n",
    "max1 = df['Unit price'].max()\n",
    "min1 = df['Unit price'].min()\n",
    "count1 = df['Unit price'].count()\n",
    "median1 = df['Unit price'].median() \n",
    "std1 = df['Unit price'].std() \n",
    "var1 = df['Unit price'].var()"
   ]
  },
  {
   "cell_type": "code",
   "execution_count": 285,
   "id": "figured-thing",
   "metadata": {},
   "outputs": [
    {
     "name": "stdout",
     "output_type": "stream",
     "text": [
      "Mean Unit price: 54.92378\n",
      "Sum of Unit price: 27461.89\n",
      "Max Unit price: 99.96\n",
      "Min Unit price: 10.59\n",
      "Count of Unit price: 500\n",
      "Median Unit price: 52.67\n",
      "Std of Unit price: 26.889827093416343\n",
      "Var of Unit price: 723.0628011138276\n"
     ]
    }
   ],
   "source": [
    "print ('Mean Unit price: ' + str(mean1))\n",
    "print ('Sum of Unit price: ' + str(sum1))\n",
    "print ('Max Unit price: ' + str(max1))\n",
    "print ('Min Unit price: ' + str(min1))\n",
    "print ('Count of Unit price: ' + str(count1))\n",
    "print ('Median Unit price: ' + str(median1))\n",
    "print ('Std of Unit price: ' + str(std1))\n",
    "print ('Var of Unit price: ' + str(var1))"
   ]
  },
  {
   "cell_type": "code",
   "execution_count": 288,
   "id": "continental-event",
   "metadata": {},
   "outputs": [],
   "source": [
    "mean2 = df['Total'].mean()\n",
    "sum2 = df['Total'].sum()\n",
    "max2 = df['Total'].max()\n",
    "min2 = df['Total'].min()\n",
    "count2 = df['Total'].count()\n",
    "median2 = df['Total'].median() \n",
    "std2 = df['Total'].std() \n",
    "var2 = df['Total'].var()"
   ]
  },
  {
   "cell_type": "code",
   "execution_count": 289,
   "id": "effective-lesbian",
   "metadata": {},
   "outputs": [
    {
     "name": "stdout",
     "output_type": "stream",
     "text": [
      "Mean Total: 330.428763\n",
      "Sum of Total: 165214.3815\n",
      "Max Total: 1042.65\n",
      "Min Total: 13.167\n",
      "Count of Total: 500\n",
      "Median Total: 270.7425\n",
      "Std of Total: 246.28114184943323\n",
      "Var of Total: 60654.40083066065\n"
     ]
    }
   ],
   "source": [
    "print ('Mean Total: ' + str(mean2))\n",
    "print ('Sum of Total: ' + str(sum2))\n",
    "print ('Max Total: ' + str(max2))\n",
    "print ('Min Total: ' + str(min2))\n",
    "print ('Count of Total: ' + str(count2))\n",
    "print ('Median Total: ' + str(median2))\n",
    "print ('Std of Total: ' + str(std2))\n",
    "print ('Var of Total: ' + str(var2))"
   ]
  },
  {
   "cell_type": "code",
   "execution_count": 290,
   "id": "handmade-policy",
   "metadata": {},
   "outputs": [],
   "source": [
    "mean3 = df['Tax 5%'].mean()\n",
    "sum3 = df['Tax 5%'].sum()\n",
    "max3 = df['Tax 5%'].max()\n",
    "min3 = df['Tax 5%'].min()\n",
    "count3 = df['Tax 5%'].count()\n",
    "median3 = df['Tax 5%'].median() \n",
    "std3 = df['Tax 5%'].std() \n",
    "var3 = df['Tax 5%'].var()"
   ]
  },
  {
   "cell_type": "code",
   "execution_count": 291,
   "id": "adjustable-phoenix",
   "metadata": {},
   "outputs": [
    {
     "name": "stdout",
     "output_type": "stream",
     "text": [
      "Mean Tax 5%: 330.428763\n",
      "Sum of Tax 5%: 165214.3815\n",
      "Max Tax 5%: 1042.65\n",
      "Min Tax 5%: 13.167\n",
      "Count of Tax 5%: 500\n",
      "Median Tax 5%: 270.7425\n",
      "Std of Tax 5%: 246.28114184943323\n",
      "Var of Tax 5%: 60654.40083066065\n"
     ]
    }
   ],
   "source": [
    "print ('Mean Tax 5%: ' + str(mean2))\n",
    "print ('Sum of Tax 5%: ' + str(sum2))\n",
    "print ('Max Tax 5%: ' + str(max2))\n",
    "print ('Min Tax 5%: ' + str(min2))\n",
    "print ('Count of Tax 5%: ' + str(count2))\n",
    "print ('Median Tax 5%: ' + str(median2))\n",
    "print ('Std of Tax 5%: ' + str(std2))\n",
    "print ('Var of Tax 5%: ' + str(var2))"
   ]
  },
  {
   "cell_type": "code",
   "execution_count": null,
   "id": "accomplished-difference",
   "metadata": {},
   "outputs": [],
   "source": []
  }
 ],
 "metadata": {
  "kernelspec": {
   "display_name": "Python 3",
   "language": "python",
   "name": "python3"
  },
  "language_info": {
   "codemirror_mode": {
    "name": "ipython",
    "version": 3
   },
   "file_extension": ".py",
   "mimetype": "text/x-python",
   "name": "python",
   "nbconvert_exporter": "python",
   "pygments_lexer": "ipython3",
   "version": "3.8.5"
  }
 },
 "nbformat": 4,
 "nbformat_minor": 5
}
